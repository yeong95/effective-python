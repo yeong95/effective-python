{
 "cells": [
  {
   "cell_type": "markdown",
   "metadata": {},
   "source": [
    "숫자로 이뤄진 list를 정렬하되, 정렬한 리스트의 앞쪽에는 우선순위를 부여한 몇몇 숫자를 위치시켜야 하는 경우 "
   ]
  },
  {
   "cell_type": "markdown",
   "metadata": {},
   "source": [
    "도우미 함수는 주어진 원소가 중요한 숫자 그룹에 들어 있는지 검사해서 정렬 기준값을 적절히 조정"
   ]
  },
  {
   "cell_type": "code",
   "execution_count": 3,
   "metadata": {
    "ExecuteTime": {
     "end_time": "2022-04-21T06:42:39.228355Z",
     "start_time": "2022-04-21T06:42:39.223356Z"
    }
   },
   "outputs": [],
   "source": [
    "# Example 1\n",
    "def sort_priority(values, group):\n",
    "    def helper(x):\n",
    "        if x in group:\n",
    "            return (0, x)\n",
    "        return (1, x)\n",
    "    values.sort(key=helper)"
   ]
  },
  {
   "cell_type": "code",
   "execution_count": 4,
   "metadata": {
    "ExecuteTime": {
     "end_time": "2022-04-21T06:42:40.032455Z",
     "start_time": "2022-04-21T06:42:40.025455Z"
    }
   },
   "outputs": [
    {
     "name": "stdout",
     "output_type": "stream",
     "text": [
      "[3, 2, 5, 7, 8, 1, 4, 6]\n"
     ]
    }
   ],
   "source": [
    "# Example 2\n",
    "numbers = [8, 3, 1, 2, 5, 4, 7, 6]\n",
    "group = {2, 3, 5, 7}\n",
    "sort_priority(numbers, group)\n",
    "print(numbers)"
   ]
  },
  {
   "cell_type": "markdown",
   "metadata": {},
   "source": [
    "이 함수가 예상대로 작동하는 3가지 이유  \n",
    "1) 파이썬이 클로저(closure)를 지원: 클로저란 자신이 정의된 영역 밖의 변수를 참조하는 함수  \n",
    "2) 파이썬에서 함수가 first-class citizen 객체임: 이를 직접 가리킬 수 있고, 변수에 대입하거나 다른 함수에 인자로 전달할 수 있으며, 식이나 if 문에서 함수를 비교하거나 함수에서 반환하는 것 등이 가능 (이 성질로 인해 sort 메서드는 클로저 함수를 key 인자로 받을 수 있음)  \n",
    "3) 파이썬에서는 시퀀스를 비교하는 구체적인 규칙이 있음: 시퀀스를 비교할 때 0번 인덱스에 있는 값을 비교한 다음, 이 값이 같으면 1번 인덱스에 있는 값을 비교"
   ]
  },
  {
   "cell_type": "markdown",
   "metadata": {},
   "source": [
    "우선순위가 높은 원소가 있는지 여부도 반환하게 만들어서 UI가 우선순위가 높은 원소가 있을 때와 아닐 때를 구분해 처리"
   ]
  },
  {
   "cell_type": "code",
   "execution_count": 5,
   "metadata": {
    "ExecuteTime": {
     "end_time": "2022-04-21T06:44:32.217678Z",
     "start_time": "2022-04-21T06:44:32.206675Z"
    }
   },
   "outputs": [],
   "source": [
    "# Example 3\n",
    "def sort_priority2(numbers, group):\n",
    "    found = False\n",
    "    def helper(x):\n",
    "        if x in group:\n",
    "            found = True  # Seems simple\n",
    "            return (0, x)\n",
    "        return (1, x)\n",
    "    numbers.sort(key=helper)\n",
    "    return found"
   ]
  },
  {
   "cell_type": "code",
   "execution_count": 6,
   "metadata": {
    "ExecuteTime": {
     "end_time": "2022-04-21T06:44:37.415634Z",
     "start_time": "2022-04-21T06:44:37.402635Z"
    }
   },
   "outputs": [
    {
     "name": "stdout",
     "output_type": "stream",
     "text": [
      "Found: False\n",
      "[2, 3, 5, 7, 1, 4, 6, 8]\n"
     ]
    }
   ],
   "source": [
    "# Example 4\n",
    "numbers = [8, 3, 1, 2, 5, 4, 7, 6]\n",
    "found = sort_priority2(numbers, group)\n",
    "print('Found:', found)\n",
    "print(numbers)"
   ]
  },
  {
   "cell_type": "markdown",
   "metadata": {},
   "source": [
    "정렬 결과는 올바르지만 함수가 반환하는 found는 True여야 하는데 False다. \n",
    "\n",
    "왜 이럴까?  \n",
    ": 파이썬 인터프리터는 이 __참조__를 해결하기 위해 다음 순서로 영역을 뒤진다.  \n",
    "1) 현재 함수 영역  \n",
    "2) 현재 함수를 둘러싼 영역  \n",
    "3) 현재 코드가 들어 있는 모듈의 영역 (global scope)  \n",
    "4) 내장 영역 (built-in scope)  "
   ]
  },
  {
   "cell_type": "markdown",
   "metadata": {},
   "source": [
    "변수에 값을 __대입__ 하는 것은 다른 방식으로 작동  \n",
    "\n",
    "변수가 현재 영역에 정의돼 있지 않으면 변수 대입을 변수 정의로 취급. 새로 정의된 변수의 영역은 해당 대입문이나 식이 들어 있던 함수가 된다. \n"
   ]
  },
  {
   "cell_type": "code",
   "execution_count": 7,
   "metadata": {
    "ExecuteTime": {
     "end_time": "2022-04-21T06:49:24.836329Z",
     "start_time": "2022-04-21T06:49:24.829359Z"
    }
   },
   "outputs": [],
   "source": [
    "# Example 6\n",
    "def sort_priority2(numbers, group):\n",
    "    found = False         # Scope: 'sort_priority2'\n",
    "    def helper(x):\n",
    "        if x in group:\n",
    "            found = True  # Scope: 'helper' -- Bad!\n",
    "            return (0, x)\n",
    "        return (1, x)\n",
    "    numbers.sort(key=helper)\n",
    "    return found"
   ]
  },
  {
   "cell_type": "markdown",
   "metadata": {},
   "source": [
    "파이썬에는 클로저 밖으로 데이터를 끌어내는 특별한 구문이 있음  \n",
    "\n",
    "nonlocal문이 지정된 변수에 대해서는 앞에서 설명한 영역 결정 규칙에 따라 대입된다.  \n",
    "\n",
    "nonlocal의 유일한 한계점은 모듈 수준 영역까지 변수 이름을 찾아 올라가지 않는다 "
   ]
  },
  {
   "cell_type": "code",
   "execution_count": 9,
   "metadata": {
    "ExecuteTime": {
     "end_time": "2022-04-21T06:52:09.995001Z",
     "start_time": "2022-04-21T06:52:09.985000Z"
    }
   },
   "outputs": [],
   "source": [
    "# Example 7\n",
    "def sort_priority3(numbers, group):\n",
    "    found = False\n",
    "    def helper(x):\n",
    "        nonlocal found  # Added\n",
    "        if x in group:\n",
    "            found = True\n",
    "            return (0, x)\n",
    "        return (1, x)\n",
    "    numbers.sort(key=helper)\n",
    "    return found\n"
   ]
  },
  {
   "cell_type": "code",
   "execution_count": 10,
   "metadata": {
    "ExecuteTime": {
     "end_time": "2022-04-21T06:55:09.938546Z",
     "start_time": "2022-04-21T06:55:09.929546Z"
    }
   },
   "outputs": [],
   "source": [
    "# Example 8\n",
    "numbers = [8, 3, 1, 2, 5, 4, 7, 6]\n",
    "found = sort_priority3(numbers, group)\n",
    "assert found\n",
    "assert numbers == [2, 3, 5, 7, 1, 4, 6, 8]"
   ]
  },
  {
   "cell_type": "markdown",
   "metadata": {},
   "source": [
    "nonlocal 문은 대입할 데이터가 클로저 밖에 있어서 다른 영역에 속한다는 사실을 분명히 알려준다   \n",
    "\n",
    "__하지만 간단한 함수가 아닌 경우에는 어떤 경우라도 nonlocal을 사용하지 말라고 경고하고 싶다__ "
   ]
  },
  {
   "cell_type": "code",
   "execution_count": 11,
   "metadata": {
    "ExecuteTime": {
     "end_time": "2022-04-21T06:56:19.363704Z",
     "start_time": "2022-04-21T06:56:19.349676Z"
    }
   },
   "outputs": [],
   "source": [
    "# Example 9\n",
    "numbers = [8, 3, 1, 2, 5, 4, 7, 6]\n",
    "class Sorter:\n",
    "    def __init__(self, group):\n",
    "        self.group = group\n",
    "        self.found = False\n",
    "\n",
    "    def __call__(self, x):\n",
    "        if x in self.group:\n",
    "            self.found = True\n",
    "            return (0, x)\n",
    "        return (1, x)"
   ]
  },
  {
   "cell_type": "code",
   "execution_count": 12,
   "metadata": {
    "ExecuteTime": {
     "end_time": "2022-04-21T06:58:03.055193Z",
     "start_time": "2022-04-21T06:58:03.045192Z"
    }
   },
   "outputs": [],
   "source": [
    "sorter = Sorter(group)\n",
    "numbers.sort(key=sorter)\n",
    "assert sorter.found is True\n",
    "assert numbers == [2, 3, 5, 7, 1, 4, 6, 8]"
   ]
  }
 ],
 "metadata": {
  "kernelspec": {
   "display_name": "Python 3",
   "language": "python",
   "name": "python3"
  },
  "language_info": {
   "codemirror_mode": {
    "name": "ipython",
    "version": 3
   },
   "file_extension": ".py",
   "mimetype": "text/x-python",
   "name": "python",
   "nbconvert_exporter": "python",
   "pygments_lexer": "ipython3",
   "version": "3.8.5"
  },
  "toc": {
   "base_numbering": 1,
   "nav_menu": {},
   "number_sections": true,
   "sideBar": true,
   "skip_h1_title": false,
   "title_cell": "Table of Contents",
   "title_sidebar": "Contents",
   "toc_cell": false,
   "toc_position": {},
   "toc_section_display": true,
   "toc_window_display": false
  },
  "varInspector": {
   "cols": {
    "lenName": 16,
    "lenType": 16,
    "lenVar": 40
   },
   "kernels_config": {
    "python": {
     "delete_cmd_postfix": "",
     "delete_cmd_prefix": "del ",
     "library": "var_list.py",
     "varRefreshCmd": "print(var_dic_list())"
    },
    "r": {
     "delete_cmd_postfix": ") ",
     "delete_cmd_prefix": "rm(",
     "library": "var_list.r",
     "varRefreshCmd": "cat(var_dic_list()) "
    }
   },
   "types_to_exclude": [
    "module",
    "function",
    "builtin_function_or_method",
    "instance",
    "_Feature"
   ],
   "window_display": false
  }
 },
 "nbformat": 4,
 "nbformat_minor": 4
}
