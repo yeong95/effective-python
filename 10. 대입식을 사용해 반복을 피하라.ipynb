{
 "cells": [
  {
   "cell_type": "markdown",
   "metadata": {},
   "source": [
    "대입식(assignment expression) 혹은 왈러스 연산자는 파이썬 3.8에서 고질적인 코드 중복 문제를 해결하고자 도입  \n",
    "\n",
    "일반 대입문 a=b\n",
    "\n",
    "왈러스 연산자는 a:=b라고 쓰며 'a 왈러스 b'라고 읽는다 \n",
    "\n",
    "대입식은 대입문이 쓰일 수 없는 위치에서 변수에 값을 대입할 수 있음 (ex. if 문의 조건식 안)"
   ]
  },
  {
   "cell_type": "code",
   "execution_count": 1,
   "metadata": {
    "ExecuteTime": {
     "end_time": "2022-03-15T05:29:10.202496Z",
     "start_time": "2022-03-15T05:29:10.195523Z"
    }
   },
   "outputs": [],
   "source": [
    "fresh_fruit = {\n",
    "    'apple': 10,\n",
    "    'banana': 8,\n",
    "    'lemon': 5,\n",
    "}"
   ]
  },
  {
   "cell_type": "code",
   "execution_count": 2,
   "metadata": {
    "ExecuteTime": {
     "end_time": "2022-03-15T05:29:36.930564Z",
     "start_time": "2022-03-15T05:29:36.922600Z"
    }
   },
   "outputs": [
    {
     "name": "stdout",
     "output_type": "stream",
     "text": [
      "Making 5 lemons into lemonade\n"
     ]
    }
   ],
   "source": [
    "def make_lemonade(count):\n",
    "    print(f'Making {count} lemons into lemonade')\n",
    "\n",
    "def out_of_stock():\n",
    "    print('Out of stock!')\n",
    "\n",
    "count = fresh_fruit.get('lemon', 0)\n",
    "if count:\n",
    "    make_lemonade(count)\n",
    "else:\n",
    "    out_of_stock()"
   ]
  },
  {
   "cell_type": "markdown",
   "metadata": {},
   "source": [
    "위 코드는 복잡함  \n",
    "\n",
    "count 변수는 if 문의 첫 번째 블록 안에서만 쓰임.\n",
    "if 앞에서 count를 정의하면 else 블록이나 그 이후의 코드에서 count 변수에 접근해야 할 필요가 있는 것처럼 보이기 때문에 실제보다 변수가 중요해 보임 (하지만 그렇지 않음)"
   ]
  },
  {
   "cell_type": "markdown",
   "metadata": {},
   "source": [
    "파이썬에서는 이런 식으로 값을 가져와서 그 값이 0인지 아닌지 검사한 후 사용하는 패턴이 자주 발생 "
   ]
  },
  {
   "cell_type": "code",
   "execution_count": 3,
   "metadata": {
    "ExecuteTime": {
     "end_time": "2022-03-15T05:33:23.619509Z",
     "start_time": "2022-03-15T05:33:23.607510Z"
    }
   },
   "outputs": [
    {
     "name": "stdout",
     "output_type": "stream",
     "text": [
      "Making 5 lemons into lemonade\n"
     ]
    }
   ],
   "source": [
    "if count := fresh_fruit.get('lemon', 0):\n",
    "    make_lemonade(count)\n",
    "else:\n",
    "    out_of_stock()"
   ]
  },
  {
   "cell_type": "markdown",
   "metadata": {},
   "source": [
    "count가 if 문의 첫 번째 블록에서만 의미가 있다는 점이 명확해 보여서 코드를 읽기가 쉬움 "
   ]
  },
  {
   "cell_type": "markdown",
   "metadata": {},
   "source": [
    "아래 코드도 왈라스를 사용해 바꾼 경우"
   ]
  },
  {
   "cell_type": "code",
   "execution_count": 4,
   "metadata": {
    "ExecuteTime": {
     "end_time": "2022-03-15T05:34:27.134304Z",
     "start_time": "2022-03-15T05:34:27.120305Z"
    }
   },
   "outputs": [
    {
     "name": "stdout",
     "output_type": "stream",
     "text": [
      "Making cider with 10 apples\n"
     ]
    }
   ],
   "source": [
    "def make_cider(count):\n",
    "    print(f'Making cider with {count} apples')\n",
    "\n",
    "count = fresh_fruit.get('apple', 0)\n",
    "if count >= 4:\n",
    "    make_cider(count)\n",
    "else:\n",
    "    out_of_stock()"
   ]
  },
  {
   "cell_type": "code",
   "execution_count": 5,
   "metadata": {
    "ExecuteTime": {
     "end_time": "2022-03-15T05:34:36.671076Z",
     "start_time": "2022-03-15T05:34:36.659049Z"
    }
   },
   "outputs": [
    {
     "name": "stdout",
     "output_type": "stream",
     "text": [
      "Making cider with 10 apples\n"
     ]
    }
   ],
   "source": [
    "if (count := fresh_fruit.get('apple', 0)) >= 4:\n",
    "    make_cider(count)\n",
    "else:\n",
    "    out_of_stock()\n"
   ]
  },
  {
   "cell_type": "markdown",
   "metadata": {},
   "source": [
    "조건에 따라 현재 위치를 둘러싸는 영역에 있는 변수에 값을 대입하고 그 변수를 바로 함수 호출에 사용하는 경우"
   ]
  },
  {
   "cell_type": "code",
   "execution_count": 6,
   "metadata": {
    "ExecuteTime": {
     "end_time": "2022-03-15T05:36:34.778385Z",
     "start_time": "2022-03-15T05:36:34.767391Z"
    }
   },
   "outputs": [
    {
     "name": "stdout",
     "output_type": "stream",
     "text": [
      "Slicing 8 bananas\n",
      "Making a smoothies with 32 banana slices\n"
     ]
    }
   ],
   "source": [
    "# 첫번째 방법\n",
    "def slice_bananas(count):\n",
    "    print(f'Slicing {count} bananas')\n",
    "    return count * 4\n",
    "\n",
    "class OutOfBananas(Exception):\n",
    "    pass\n",
    "\n",
    "def make_smoothies(count):\n",
    "    print(f'Making a smoothies with {count} banana slices')\n",
    "\n",
    "pieces = 0\n",
    "count = fresh_fruit.get('banana', 0)\n",
    "if count >= 2:\n",
    "    pieces = slice_bananas(count)\n",
    "\n",
    "try:\n",
    "    smoothies = make_smoothies(pieces)\n",
    "except OutOfBananas:\n",
    "    out_of_stock()"
   ]
  },
  {
   "cell_type": "code",
   "execution_count": 7,
   "metadata": {
    "ExecuteTime": {
     "end_time": "2022-03-15T05:37:45.957108Z",
     "start_time": "2022-03-15T05:37:45.953108Z"
    }
   },
   "outputs": [
    {
     "name": "stdout",
     "output_type": "stream",
     "text": [
      "Slicing 8 bananas\n",
      "Making a smoothies with 32 banana slices\n"
     ]
    }
   ],
   "source": [
    "# 2번째 방법\n",
    "count = fresh_fruit.get('banana', 0)\n",
    "if count >= 2:\n",
    "    pieces = slice_bananas(count)\n",
    "else:\n",
    "    pieces = 0\n",
    "\n",
    "try:\n",
    "    smoothies = make_smoothies(pieces)\n",
    "except OutOfBananas:\n",
    "    out_of_stock()"
   ]
  },
  {
   "cell_type": "markdown",
   "metadata": {},
   "source": [
    "두 번째 방법은 pieces 변수가 두 위치에서 정의되는 것처럼 보여서 이상하게 느껴질 수 있음  \n",
    "\n",
    "왈러스 연산자를 사용하면 이 예제를 한 줄짜리 코드로 줄일 수 있음 "
   ]
  },
  {
   "cell_type": "code",
   "execution_count": 8,
   "metadata": {
    "ExecuteTime": {
     "end_time": "2022-03-15T05:55:23.979197Z",
     "start_time": "2022-03-15T05:55:23.972199Z"
    }
   },
   "outputs": [
    {
     "name": "stdout",
     "output_type": "stream",
     "text": [
      "Slicing 8 bananas\n",
      "Making a smoothies with 32 banana slices\n"
     ]
    }
   ],
   "source": [
    "pieces = 0\n",
    "if (count := fresh_fruit.get('banana', 0)) >= 2:\n",
    "    pieces = slice_bananas(count)\n",
    "\n",
    "try:\n",
    "    smoothies = make_smoothies(pieces)\n",
    "except OutOfBananas:\n",
    "    out_of_stock()"
   ]
  },
  {
   "cell_type": "code",
   "execution_count": 9,
   "metadata": {
    "ExecuteTime": {
     "end_time": "2022-03-15T05:57:11.410510Z",
     "start_time": "2022-03-15T05:57:11.399481Z"
    }
   },
   "outputs": [
    {
     "name": "stdout",
     "output_type": "stream",
     "text": [
      "Slicing 8 bananas\n",
      "Making a smoothies with 32 banana slices\n"
     ]
    }
   ],
   "source": [
    "if (count := fresh_fruit.get('banana', 0)) >= 2:\n",
    "    pieces = slice_bananas(count)\n",
    "else:\n",
    "    pieces = 0\n",
    "\n",
    "try:\n",
    "    smoothies = make_smoothies(pieces)\n",
    "except OutOfBananas:\n",
    "    out_of_stock()"
   ]
  },
  {
   "cell_type": "markdown",
   "metadata": {},
   "source": [
    "만들 수 있는 주스 중 가장 좋은 주스를 고객에게 제공하고 싶은 경우 (바나나 -> 애플 -> 레모네이드)"
   ]
  },
  {
   "cell_type": "code",
   "execution_count": 10,
   "metadata": {
    "ExecuteTime": {
     "end_time": "2022-03-15T05:58:23.555233Z",
     "start_time": "2022-03-15T05:58:23.548233Z"
    }
   },
   "outputs": [
    {
     "name": "stdout",
     "output_type": "stream",
     "text": [
      "Slicing 8 bananas\n",
      "Making a smoothies with 32 banana slices\n"
     ]
    }
   ],
   "source": [
    "count = fresh_fruit.get('banana', 0)\n",
    "if count >= 2:\n",
    "    pieces = slice_bananas(count)\n",
    "    to_enjoy = make_smoothies(pieces)\n",
    "else:\n",
    "    count = fresh_fruit.get('apple', 0)\n",
    "    if count >= 4:\n",
    "        to_enjoy = make_cider(count)\n",
    "    else:\n",
    "        count = fresh_fruit.get('lemon', 0)\n",
    "        if count:\n",
    "            to_enjoy = make_lemonade(count)\n",
    "        else:\n",
    "            to_enjoy = 'Nothing'"
   ]
  },
  {
   "cell_type": "markdown",
   "metadata": {},
   "source": [
    "위 코드는 굉장히 지저분하다  \n",
    "\n",
    "왈러스 연산자를 사용하면 switch/case 문 같은 다중 선택 전용 구문과 거의 비슷한 느낌이 드는 해법이 있음 "
   ]
  },
  {
   "cell_type": "code",
   "execution_count": 11,
   "metadata": {
    "ExecuteTime": {
     "end_time": "2022-03-15T05:59:45.052517Z",
     "start_time": "2022-03-15T05:59:45.044517Z"
    }
   },
   "outputs": [
    {
     "name": "stdout",
     "output_type": "stream",
     "text": [
      "Slicing 8 bananas\n",
      "Making a smoothies with 32 banana slices\n"
     ]
    }
   ],
   "source": [
    "if (count := fresh_fruit.get('banana', 0)) >= 2:\n",
    "    pieces = slice_bananas(count)\n",
    "    to_enjoy = make_smoothies(pieces)\n",
    "elif (count := fresh_fruit.get('apple', 0)) >= 4:\n",
    "    to_enjoy = make_cider(count)\n",
    "elif count := fresh_fruit.get('lemon', 0):\n",
    "    to_enjoy = make_lemonade(count)\n",
    "else:\n",
    "    to_enjoy = 'Nothing'"
   ]
  },
  {
   "cell_type": "markdown",
   "metadata": {},
   "source": [
    "신선한 과일이 배달돼서 이 과일을 모두 주스로 만든 후 병에 담기로 하는 로직 "
   ]
  },
  {
   "cell_type": "code",
   "execution_count": 12,
   "metadata": {
    "ExecuteTime": {
     "end_time": "2022-03-15T06:01:54.107855Z",
     "start_time": "2022-03-15T06:01:54.091857Z"
    }
   },
   "outputs": [
    {
     "name": "stdout",
     "output_type": "stream",
     "text": [
      "[('apple', 1), ('banana', 3), ('lemon', 2), ('lime', 5), ('orange', 3), ('melon', 2)]\n"
     ]
    }
   ],
   "source": [
    "FRUIT_TO_PICK = [\n",
    "    {'apple': 1, 'banana': 3},\n",
    "    {'lemon': 2, 'lime': 5},\n",
    "    {'orange': 3, 'melon': 2},\n",
    "]\n",
    "\n",
    "def pick_fruit():\n",
    "    if FRUIT_TO_PICK:\n",
    "        return FRUIT_TO_PICK.pop(0)\n",
    "    else:\n",
    "        return []\n",
    "\n",
    "def make_juice(fruit, count):\n",
    "    return [(fruit, count)]\n",
    "\n",
    "bottles = []\n",
    "fresh_fruit = pick_fruit()\n",
    "while fresh_fruit:\n",
    "    for fruit, count in fresh_fruit.items():\n",
    "        batch = make_juice(fruit, count)\n",
    "        bottles.extend(batch)\n",
    "    fresh_fruit = pick_fruit()\n",
    "\n",
    "print(bottles)"
   ]
  },
  {
   "cell_type": "markdown",
   "metadata": {},
   "source": [
    "이 코드는 fresh_fruit = pick_fruit() 호출을 두 번 하므로 반복적  \n",
    "\n",
    "코드 재사용을 향상시키기 위한 전략은 __무한 루프-중간에서 끝내기__ 사용  \n",
    "\n",
    "이 관용어는 코드 반복을 없애지만, while 루프를 맹목적인 무한 루프로 만들어 유용성이 줄어듦 "
   ]
  },
  {
   "cell_type": "code",
   "execution_count": 13,
   "metadata": {
    "ExecuteTime": {
     "end_time": "2022-03-15T06:05:15.492823Z",
     "start_time": "2022-03-15T06:05:15.478802Z"
    }
   },
   "outputs": [
    {
     "name": "stdout",
     "output_type": "stream",
     "text": [
      "[('apple', 1), ('banana', 3), ('lemon', 2), ('lime', 5), ('orange', 3), ('melon', 2)]\n"
     ]
    }
   ],
   "source": [
    "FRUIT_TO_PICK = [\n",
    "    {'apple': 1, 'banana': 3},\n",
    "    {'lemon': 2, 'lime': 5},\n",
    "    {'orange': 3, 'melon': 2},\n",
    "]\n",
    "\n",
    "bottles = []\n",
    "while True:                     # Loop\n",
    "    fresh_fruit = pick_fruit()\n",
    "    if not fresh_fruit:         # And a half\n",
    "        break\n",
    "    for fruit, count in fresh_fruit.items():\n",
    "        batch = make_juice(fruit, count)\n",
    "        bottles.extend(batch)\n",
    "\n",
    "print(bottles)"
   ]
  },
  {
   "cell_type": "markdown",
   "metadata": {},
   "source": [
    "왈러스 연산자를 사용하여 효율적으로 짜는 경우"
   ]
  },
  {
   "cell_type": "code",
   "execution_count": 14,
   "metadata": {
    "ExecuteTime": {
     "end_time": "2022-03-15T06:07:05.337507Z",
     "start_time": "2022-03-15T06:07:05.320477Z"
    }
   },
   "outputs": [
    {
     "name": "stdout",
     "output_type": "stream",
     "text": [
      "[('apple', 1), ('banana', 3), ('lemon', 2), ('lime', 5), ('orange', 3), ('melon', 2)]\n"
     ]
    }
   ],
   "source": [
    "FRUIT_TO_PICK = [\n",
    "    {'apple': 1, 'banana': 3},\n",
    "    {'lemon': 2, 'lime': 5},\n",
    "    {'orange': 3, 'melon': 2},\n",
    "]\n",
    "\n",
    "bottles = []\n",
    "while fresh_fruit := pick_fruit():\n",
    "    for fruit, count in fresh_fruit.items():\n",
    "        batch = make_juice(fruit, count)\n",
    "        bottles.extend(batch)\n",
    "\n",
    "print(bottles)"
   ]
  },
  {
   "cell_type": "markdown",
   "metadata": {},
   "source": [
    "같은 식이나 같은 대입문을 여러 버 ㄴ되풀이하는 부분을 발견하면 가독성을 향상시키기 위해 대입식을 도입하는 것을 고려해봐야 함 "
   ]
  }
 ],
 "metadata": {
  "kernelspec": {
   "display_name": "Python 3",
   "language": "python",
   "name": "python3"
  },
  "language_info": {
   "codemirror_mode": {
    "name": "ipython",
    "version": 3
   },
   "file_extension": ".py",
   "mimetype": "text/x-python",
   "name": "python",
   "nbconvert_exporter": "python",
   "pygments_lexer": "ipython3",
   "version": "3.8.5"
  },
  "toc": {
   "base_numbering": 1,
   "nav_menu": {},
   "number_sections": true,
   "sideBar": true,
   "skip_h1_title": false,
   "title_cell": "Table of Contents",
   "title_sidebar": "Contents",
   "toc_cell": false,
   "toc_position": {},
   "toc_section_display": true,
   "toc_window_display": false
  },
  "varInspector": {
   "cols": {
    "lenName": 16,
    "lenType": 16,
    "lenVar": 40
   },
   "kernels_config": {
    "python": {
     "delete_cmd_postfix": "",
     "delete_cmd_prefix": "del ",
     "library": "var_list.py",
     "varRefreshCmd": "print(var_dic_list())"
    },
    "r": {
     "delete_cmd_postfix": ") ",
     "delete_cmd_prefix": "rm(",
     "library": "var_list.r",
     "varRefreshCmd": "cat(var_dic_list()) "
    }
   },
   "types_to_exclude": [
    "module",
    "function",
    "builtin_function_or_method",
    "instance",
    "_Feature"
   ],
   "window_display": false
  }
 },
 "nbformat": 4,
 "nbformat_minor": 4
}
