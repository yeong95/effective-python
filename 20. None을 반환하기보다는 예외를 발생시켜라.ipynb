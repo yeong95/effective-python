{
 "cells": [
  {
   "cell_type": "markdown",
   "metadata": {},
   "source": [
    "반환 값을 None으로 하는 경우"
   ]
  },
  {
   "cell_type": "code",
   "execution_count": 1,
   "metadata": {
    "ExecuteTime": {
     "end_time": "2022-04-21T05:25:00.433798Z",
     "start_time": "2022-04-21T05:25:00.422766Z"
    }
   },
   "outputs": [],
   "source": [
    "# Example 1\n",
    "def careful_divide(a, b):\n",
    "    try:\n",
    "        return a / b\n",
    "    except ZeroDivisionError:\n",
    "        return None"
   ]
  },
  {
   "cell_type": "code",
   "execution_count": 2,
   "metadata": {
    "ExecuteTime": {
     "end_time": "2022-04-21T05:25:07.018878Z",
     "start_time": "2022-04-21T05:25:07.008879Z"
    }
   },
   "outputs": [],
   "source": [
    "assert careful_divide(4, 2) == 2\n",
    "assert careful_divide(0, 1) == 0\n",
    "assert careful_divide(3, 6) == 0.5\n",
    "assert careful_divide(1, 0) == None"
   ]
  },
  {
   "cell_type": "code",
   "execution_count": 3,
   "metadata": {
    "ExecuteTime": {
     "end_time": "2022-04-21T05:25:25.579773Z",
     "start_time": "2022-04-21T05:25:25.575777Z"
    }
   },
   "outputs": [
    {
     "name": "stdout",
     "output_type": "stream",
     "text": [
      "Invalid inputs\n"
     ]
    }
   ],
   "source": [
    "# Example 2\n",
    "x, y = 1, 0\n",
    "result = careful_divide(x, y)\n",
    "if result is None:\n",
    "    print('Invalid inputs')\n",
    "else:\n",
    "    print('Result is %.1f' % result)"
   ]
  },
  {
   "cell_type": "markdown",
   "metadata": {},
   "source": [
    "함수가 반환한 결과를 if문 등의 조건에서 평가할 때 0값이 문제가 될 수 있음  \n",
    "None인지 검사하는 대신, 실수로 빈 값을 False로 취급하는 검사를 실행할 수 있다. "
   ]
  },
  {
   "cell_type": "code",
   "execution_count": 4,
   "metadata": {
    "ExecuteTime": {
     "end_time": "2022-04-21T05:25:31.378742Z",
     "start_time": "2022-04-21T05:25:31.362522Z"
    }
   },
   "outputs": [
    {
     "name": "stdout",
     "output_type": "stream",
     "text": [
      "Invalid inputs\n"
     ]
    }
   ],
   "source": [
    "# Example 3\n",
    "x, y = 0, 5\n",
    "result = careful_divide(x, y)\n",
    "if not result:\n",
    "    print('Invalid inputs')  # This runs! But shouldn't\n",
    "else:\n",
    "    assert False"
   ]
  },
  {
   "cell_type": "markdown",
   "metadata": {},
   "source": [
    "이런 실수를 줄이는 방법은 2가지  \n",
    "\n",
    "1) 반환 값을 2-튜플로 분리하는 것 (첫 번째 부분은 연산이 성공인지 실패인지, 두 번째 부분은 계싼에 성공한 경우 실제 결과값 저장)"
   ]
  },
  {
   "cell_type": "code",
   "execution_count": 5,
   "metadata": {
    "ExecuteTime": {
     "end_time": "2022-04-21T05:28:11.188212Z",
     "start_time": "2022-04-21T05:28:11.177214Z"
    }
   },
   "outputs": [],
   "source": [
    "# Example 4\n",
    "def careful_divide(a, b):\n",
    "    try:\n",
    "        return True, a / b\n",
    "    except ZeroDivisionError:\n",
    "        return False, None"
   ]
  },
  {
   "cell_type": "code",
   "execution_count": 6,
   "metadata": {
    "ExecuteTime": {
     "end_time": "2022-04-21T05:28:11.823619Z",
     "start_time": "2022-04-21T05:28:11.812619Z"
    }
   },
   "outputs": [],
   "source": [
    "assert careful_divide(4, 2) == (True, 2)\n",
    "assert careful_divide(0, 1) == (True, 0)\n",
    "assert careful_divide(3, 6) == (True, 0.5)\n",
    "assert careful_divide(1, 0) == (False, None)"
   ]
  },
  {
   "cell_type": "markdown",
   "metadata": {},
   "source": [
    "함수를 호출하는 쪽에서는 튜플을 언패킹해야 한다.  \n",
    "\n",
    "이 방법의 문제점은 호출하는 쪽에서 튜플의 첫 번째 부분을 쉽게 무시할 수 있다는 것 (실수할 가능성이 높아짐)"
   ]
  },
  {
   "cell_type": "code",
   "execution_count": 7,
   "metadata": {
    "ExecuteTime": {
     "end_time": "2022-04-21T05:30:21.804515Z",
     "start_time": "2022-04-21T05:30:21.798511Z"
    }
   },
   "outputs": [
    {
     "name": "stdout",
     "output_type": "stream",
     "text": [
      "Invalid inputs\n"
     ]
    }
   ],
   "source": [
    "# Example 5\n",
    "x, y = 5, 0\n",
    "success, result = careful_divide(x, y)\n",
    "if not success:\n",
    "    print('Invalid inputs')"
   ]
  },
  {
   "cell_type": "code",
   "execution_count": 9,
   "metadata": {
    "ExecuteTime": {
     "end_time": "2022-04-21T05:31:15.939521Z",
     "start_time": "2022-04-21T05:31:15.933556Z"
    }
   },
   "outputs": [
    {
     "name": "stdout",
     "output_type": "stream",
     "text": [
      "Invalid inputs\n"
     ]
    }
   ],
   "source": [
    "# Example 6\n",
    "x, y = 5, 0\n",
    "_, result = careful_divide(x, y)\n",
    "if not result:\n",
    "    print('Invalid inputs')"
   ]
  },
  {
   "cell_type": "markdown",
   "metadata": {},
   "source": [
    "더 나은 두 번째 방법은 결코 None을 사용하지 않는 것  \n",
    "\n",
    "대신 Exception을 호출한 쪽으로 발생시켜서 호출자가 이를 처리하게 하는 것 "
   ]
  },
  {
   "cell_type": "code",
   "execution_count": 10,
   "metadata": {
    "ExecuteTime": {
     "end_time": "2022-04-21T05:33:44.609980Z",
     "start_time": "2022-04-21T05:33:44.596951Z"
    }
   },
   "outputs": [],
   "source": [
    "# Example 7\n",
    "def careful_divide(a, b):\n",
    "    try:\n",
    "        return a / b\n",
    "    except ZeroDivisionError as e:\n",
    "        raise ValueError('Invalid inputs')"
   ]
  },
  {
   "cell_type": "markdown",
   "metadata": {},
   "source": [
    "호출자는 더 이상 반환 값에 대한 조건문을 사용하지 않아도 된다. "
   ]
  },
  {
   "cell_type": "code",
   "execution_count": 11,
   "metadata": {
    "ExecuteTime": {
     "end_time": "2022-04-21T05:34:25.088054Z",
     "start_time": "2022-04-21T05:34:25.070073Z"
    }
   },
   "outputs": [
    {
     "name": "stdout",
     "output_type": "stream",
     "text": [
      "Result is 2.5\n"
     ]
    }
   ],
   "source": [
    "# Example 8\n",
    "x, y = 5, 2\n",
    "try:\n",
    "    result = careful_divide(x, y)\n",
    "except ValueError:\n",
    "    print('Invalid inputs')\n",
    "else:\n",
    "    print('Result is %.1f' % result)"
   ]
  },
  {
   "cell_type": "markdown",
   "metadata": {},
   "source": [
    "이 접근 방법을 확장해서 타입 애너테이션을 사용하는 코드에도 적용할 수 있다.  \n",
    "\n",
    "함수의 반환 값이 항상 float이라고 지정할 수 있고 그에 따라 None 값이 결코 반환되지 않음 "
   ]
  },
  {
   "cell_type": "code",
   "execution_count": 12,
   "metadata": {
    "ExecuteTime": {
     "end_time": "2022-04-21T05:37:26.952286Z",
     "start_time": "2022-04-21T05:37:26.939285Z"
    }
   },
   "outputs": [],
   "source": [
    "# Example 9\n",
    "def careful_divide(a: float, b: float) -> float:\n",
    "    \"\"\"Divides a by b.\n",
    "    Raises:\n",
    "        ValueError: When the inputs cannot be divided.\n",
    "    \"\"\"\n",
    "    try:\n",
    "        return a / b\n",
    "    except ZeroDivisionError as e:\n",
    "        raise ValueError('Invalid inputs')\n",
    "\n",
    "try:\n",
    "    result = careful_divide(1, 0)\n",
    "    assert False\n",
    "except ValueError:\n",
    "    pass  # Expected\n",
    "\n",
    "assert careful_divide(1, 5) == 0.2"
   ]
  }
 ],
 "metadata": {
  "kernelspec": {
   "display_name": "Python 3",
   "language": "python",
   "name": "python3"
  },
  "language_info": {
   "codemirror_mode": {
    "name": "ipython",
    "version": 3
   },
   "file_extension": ".py",
   "mimetype": "text/x-python",
   "name": "python",
   "nbconvert_exporter": "python",
   "pygments_lexer": "ipython3",
   "version": "3.8.5"
  },
  "toc": {
   "base_numbering": 1,
   "nav_menu": {},
   "number_sections": true,
   "sideBar": true,
   "skip_h1_title": false,
   "title_cell": "Table of Contents",
   "title_sidebar": "Contents",
   "toc_cell": false,
   "toc_position": {},
   "toc_section_display": true,
   "toc_window_display": false
  },
  "varInspector": {
   "cols": {
    "lenName": 16,
    "lenType": 16,
    "lenVar": 40
   },
   "kernels_config": {
    "python": {
     "delete_cmd_postfix": "",
     "delete_cmd_prefix": "del ",
     "library": "var_list.py",
     "varRefreshCmd": "print(var_dic_list())"
    },
    "r": {
     "delete_cmd_postfix": ") ",
     "delete_cmd_prefix": "rm(",
     "library": "var_list.r",
     "varRefreshCmd": "cat(var_dic_list()) "
    }
   },
   "types_to_exclude": [
    "module",
    "function",
    "builtin_function_or_method",
    "instance",
    "_Feature"
   ],
   "window_display": false
  }
 },
 "nbformat": 4,
 "nbformat_minor": 4
}
