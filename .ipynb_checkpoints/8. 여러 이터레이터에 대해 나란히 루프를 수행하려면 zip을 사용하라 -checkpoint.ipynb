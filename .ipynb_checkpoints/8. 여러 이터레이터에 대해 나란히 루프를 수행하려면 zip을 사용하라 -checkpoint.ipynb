{
 "cells": [
  {
   "cell_type": "code",
   "execution_count": 1,
   "metadata": {
    "ExecuteTime": {
     "end_time": "2022-03-14T10:50:30.879170Z",
     "start_time": "2022-03-14T10:50:30.873169Z"
    }
   },
   "outputs": [
    {
     "name": "stdout",
     "output_type": "stream",
     "text": [
      "[7, 4, 5]\n"
     ]
    }
   ],
   "source": [
    "names = ['Cecilia', 'Lise', 'Marie']\n",
    "counts = [len(n) for n in names]\n",
    "print(counts)"
   ]
  },
  {
   "cell_type": "markdown",
   "metadata": {},
   "source": [
    "두 리스트를 동시에 이터레이션할 경우 names 소스 리스트의 길이를 사용해 이터레이션할 수 있음 "
   ]
  },
  {
   "cell_type": "code",
   "execution_count": 2,
   "metadata": {
    "ExecuteTime": {
     "end_time": "2022-03-14T10:51:10.205222Z",
     "start_time": "2022-03-14T10:51:10.196192Z"
    }
   },
   "outputs": [
    {
     "name": "stdout",
     "output_type": "stream",
     "text": [
      "Cecilia\n"
     ]
    }
   ],
   "source": [
    "longest_name = None\n",
    "max_count = 0\n",
    "\n",
    "for i in range(len(names)):\n",
    "    count = counts[i]\n",
    "    if count > max_count:\n",
    "        longest_name = names[i]\n",
    "        max_count = count\n",
    "\n",
    "print(longest_name)"
   ]
  },
  {
   "cell_type": "markdown",
   "metadata": {},
   "source": [
    "위 코드는 지저분해 보임 (i 인덱싱인 2번 들어감)   \n",
    "enumerate를 사용하면 조금 더 나아지지면 여전히 이상적이지 x"
   ]
  },
  {
   "cell_type": "code",
   "execution_count": 3,
   "metadata": {
    "ExecuteTime": {
     "end_time": "2022-03-14T10:52:14.025291Z",
     "start_time": "2022-03-14T10:52:14.018293Z"
    }
   },
   "outputs": [],
   "source": [
    "longest_name = None\n",
    "max_count = 0\n",
    "for i, name in enumerate(names):\n",
    "    count = counts[i]\n",
    "    if count > max_count:\n",
    "        longest_name = name\n",
    "        max_count = count\n",
    "assert longest_name == 'Cecilia'"
   ]
  },
  {
   "cell_type": "markdown",
   "metadata": {},
   "source": [
    "zip을 사용하면 깔끔해진다  \n",
    "zip 제너레이터는 각 이터레이터의 다음 값이 들어 있는 튜플을 반환한다 "
   ]
  },
  {
   "cell_type": "code",
   "execution_count": 4,
   "metadata": {
    "ExecuteTime": {
     "end_time": "2022-03-14T10:53:14.877734Z",
     "start_time": "2022-03-14T10:53:14.871733Z"
    }
   },
   "outputs": [],
   "source": [
    "longest_name = None\n",
    "max_count = 0\n",
    "for name, count in zip(names, counts):\n",
    "    if count > max_count:\n",
    "        longest_name = name\n",
    "        max_count = count\n",
    "assert longest_name == 'Cecilia'"
   ]
  },
  {
   "cell_type": "markdown",
   "metadata": {},
   "source": [
    "zip은 자신이 감싼 이터레이터 원소를 하나씩 소비. 따라서 메모리를 다 소모해서 프로그램이 중단되는 위험 없이 아주 긴 입력도 처리 가능  \n",
    "하지만 입력 이터레이터의 길이가 서로 다를 때는 주의 "
   ]
  },
  {
   "cell_type": "code",
   "execution_count": 5,
   "metadata": {
    "ExecuteTime": {
     "end_time": "2022-03-14T10:54:26.595088Z",
     "start_time": "2022-03-14T10:54:26.580121Z"
    }
   },
   "outputs": [
    {
     "name": "stdout",
     "output_type": "stream",
     "text": [
      "Cecilia\n",
      "Lise\n",
      "Marie\n"
     ]
    }
   ],
   "source": [
    "names.append('Rosalind')\n",
    "for name, count in zip(names, counts):\n",
    "    print(name)"
   ]
  },
  {
   "cell_type": "markdown",
   "metadata": {},
   "source": [
    "zip은 자신이 감싼 이터레이터 중 어느 하나가 끝날 때까지 튜플을 내놓는다  \n",
    "\n",
    "zip에 전달한 리스트의 길이가 같지 않을 것으로 예상한다면 itertools 내장 모듈의 zip_longest를 고려해보자 "
   ]
  },
  {
   "cell_type": "code",
   "execution_count": 6,
   "metadata": {
    "ExecuteTime": {
     "end_time": "2022-03-14T10:55:50.059480Z",
     "start_time": "2022-03-14T10:55:50.051512Z"
    }
   },
   "outputs": [
    {
     "name": "stdout",
     "output_type": "stream",
     "text": [
      "Cecilia: 7\n",
      "Lise: 4\n",
      "Marie: 5\n",
      "Rosalind: None\n"
     ]
    }
   ],
   "source": [
    "import itertools\n",
    "\n",
    "for name, count in itertools.zip_longest(names, counts):\n",
    "    print(f'{name}: {count}')"
   ]
  }
 ],
 "metadata": {
  "kernelspec": {
   "display_name": "Python 3",
   "language": "python",
   "name": "python3"
  },
  "language_info": {
   "codemirror_mode": {
    "name": "ipython",
    "version": 3
   },
   "file_extension": ".py",
   "mimetype": "text/x-python",
   "name": "python",
   "nbconvert_exporter": "python",
   "pygments_lexer": "ipython3",
   "version": "3.8.5"
  },
  "toc": {
   "base_numbering": 1,
   "nav_menu": {},
   "number_sections": true,
   "sideBar": true,
   "skip_h1_title": false,
   "title_cell": "Table of Contents",
   "title_sidebar": "Contents",
   "toc_cell": false,
   "toc_position": {},
   "toc_section_display": true,
   "toc_window_display": false
  },
  "varInspector": {
   "cols": {
    "lenName": 16,
    "lenType": 16,
    "lenVar": 40
   },
   "kernels_config": {
    "python": {
     "delete_cmd_postfix": "",
     "delete_cmd_prefix": "del ",
     "library": "var_list.py",
     "varRefreshCmd": "print(var_dic_list())"
    },
    "r": {
     "delete_cmd_postfix": ") ",
     "delete_cmd_prefix": "rm(",
     "library": "var_list.r",
     "varRefreshCmd": "cat(var_dic_list()) "
    }
   },
   "types_to_exclude": [
    "module",
    "function",
    "builtin_function_or_method",
    "instance",
    "_Feature"
   ],
   "window_display": false
  }
 },
 "nbformat": 4,
 "nbformat_minor": 4
}
