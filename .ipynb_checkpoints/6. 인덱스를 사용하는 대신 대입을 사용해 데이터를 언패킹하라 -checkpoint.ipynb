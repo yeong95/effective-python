{
 "cells": [
  {
   "cell_type": "markdown",
   "metadata": {},
   "source": [
    "언패킹 구문을 사용하면 한 문장 안에서 여러 값을 대입할 수 있음 "
   ]
  },
  {
   "cell_type": "code",
   "execution_count": 1,
   "metadata": {
    "ExecuteTime": {
     "end_time": "2022-03-13T08:29:00.623580Z",
     "start_time": "2022-03-13T08:29:00.616611Z"
    }
   },
   "outputs": [
    {
     "name": "stdout",
     "output_type": "stream",
     "text": [
      "Peanut butter and Jelly\n"
     ]
    }
   ],
   "source": [
    "item = ('Peanut butter', 'Jelly')\n",
    "first, second = item  # Unpacking\n",
    "print(first, 'and', second)\n"
   ]
  },
  {
   "cell_type": "markdown",
   "metadata": {},
   "source": [
    "언패킹을 사용하면 임시 변수를 정의하지 않고도 값을 맞바꿀 수 있음  \n",
    "\n",
    "다음은 임시 변수를 사용해 list의 두 위치의 원소를 바꿈 "
   ]
  },
  {
   "cell_type": "code",
   "execution_count": 7,
   "metadata": {
    "ExecuteTime": {
     "end_time": "2022-03-14T07:48:09.892331Z",
     "start_time": "2022-03-14T07:48:09.883301Z"
    }
   },
   "outputs": [],
   "source": [
    "def bubble_sort(a):\n",
    "\tfor _ in range(len(a)):\n",
    "\t\tfor i in range(1, len(a)):\n",
    "\t\t\tif a[i] < a[i-1]:\n",
    "\t\t\t\ttemp = a[i]\n",
    "\t\t\t\ta[i] = a[i-1]\n",
    "\t\t\t\ta[i-1] = temp"
   ]
  },
  {
   "cell_type": "code",
   "execution_count": 8,
   "metadata": {
    "ExecuteTime": {
     "end_time": "2022-03-14T07:48:24.478937Z",
     "start_time": "2022-03-14T07:48:24.472954Z"
    }
   },
   "outputs": [
    {
     "name": "stdout",
     "output_type": "stream",
     "text": [
      "['arugula', 'bacon', 'carrots', 'pretzels']\n"
     ]
    }
   ],
   "source": [
    "names = ['pretzels', 'carrots', 'arugula', 'bacon']\n",
    "bubble_sort(names)\n",
    "print(names)"
   ]
  },
  {
   "cell_type": "markdown",
   "metadata": {},
   "source": [
    "하지만 언패킹 구문을 사용하면 한 줄로 두 인덱스가 가리키는 원소를 바꿀 수 있음 <br>\n",
    "\n",
    "작동 방식  \n",
    ": 우항이 계산되고, 그 결과값이 임의의 tuple에 저장. 그 후 대입문의 좌항에 있는 언패킹 패턴을 통해 임시 tuple에 있는 값이 변수에 각각 저장된다. "
   ]
  },
  {
   "cell_type": "code",
   "execution_count": 9,
   "metadata": {
    "ExecuteTime": {
     "end_time": "2022-03-14T07:49:10.461348Z",
     "start_time": "2022-03-14T07:49:10.449320Z"
    }
   },
   "outputs": [],
   "source": [
    "def bubble_sort(a):\n",
    "\tfor _ in range(len(a)):\n",
    "\t\tfor i in range(1, len(a)):\n",
    "\t\t\tif a[i] < a[i-1]:\n",
    "\t\t\t\ta[i-1], a[i] = a[i], a[i-1]  # Swap"
   ]
  },
  {
   "cell_type": "code",
   "execution_count": 10,
   "metadata": {
    "ExecuteTime": {
     "end_time": "2022-03-14T07:49:17.850090Z",
     "start_time": "2022-03-14T07:49:17.844086Z"
    }
   },
   "outputs": [
    {
     "name": "stdout",
     "output_type": "stream",
     "text": [
      "['arugula', 'bacon', 'carrots', 'pretzels']\n"
     ]
    }
   ],
   "source": [
    "names = ['pretzels', 'carrots', 'arugula', 'bacon']\n",
    "bubble_sort(names)\n",
    "print(names)"
   ]
  },
  {
   "cell_type": "markdown",
   "metadata": {},
   "source": [
    "언패킹의 쓸모 있는 용도는 리스트의 원소를 언패킹하는 것  \n",
    "\n",
    "아래 코드는 언패킹 사용 x <br>\n",
    "snacks 구조 내부의 깊숙한 곳에 있는 데이터를 인덱스로 찾으려면 코드가 길어진다. "
   ]
  },
  {
   "cell_type": "code",
   "execution_count": 11,
   "metadata": {
    "ExecuteTime": {
     "end_time": "2022-03-14T07:52:51.395884Z",
     "start_time": "2022-03-14T07:52:51.388913Z"
    }
   },
   "outputs": [
    {
     "name": "stdout",
     "output_type": "stream",
     "text": [
      "#1: bacon has 350 calories\n",
      "#2: donut has 240 calories\n",
      "#3: muffin has 190 calories\n"
     ]
    }
   ],
   "source": [
    "snacks = [('bacon', 350), ('donut', 240), ('muffin', 190)]\n",
    "for i in range(len(snacks)):\n",
    "\titem = snacks[i]\n",
    "\tname = item[0]\n",
    "\tcalories = item[1]\n",
    "\tprint(f'#{i+1}: {name} has {calories} calories')\n"
   ]
  },
  {
   "cell_type": "markdown",
   "metadata": {},
   "source": [
    "다음은 enumerate와 언패킹을 사용한 예시 "
   ]
  },
  {
   "cell_type": "code",
   "execution_count": 14,
   "metadata": {
    "ExecuteTime": {
     "end_time": "2022-03-14T07:55:05.134618Z",
     "start_time": "2022-03-14T07:55:05.127617Z"
    }
   },
   "outputs": [
    {
     "name": "stdout",
     "output_type": "stream",
     "text": [
      "#1: bacon has 350 calories\n",
      "#2: donut has 240 calories\n",
      "#3: muffin has 190 calories\n"
     ]
    }
   ],
   "source": [
    "for rank, (name, calories) in enumerate(snacks, 1):\n",
    "\tprint(f'#{rank}: {name} has {calories} calories')"
   ]
  },
  {
   "cell_type": "markdown",
   "metadata": {},
   "source": [
    "언패킹을 현명하게 사용하면 가능한 한 인덱스 사용을 피할 수 있고, 더 명확하고 파이썬다운 코드를 만들 수 있음. "
   ]
  },
  {
   "cell_type": "markdown",
   "metadata": {},
   "source": [
    "__기억해야 될 내용__  \n",
    "* 언패킹은 모든 이터러블에 적용할 수 있음. 그리고 이터러블이 여러 계층으로 내포된 경우에도 언패킹 적용 가능  "
   ]
  }
 ],
 "metadata": {
  "kernelspec": {
   "display_name": "Python 3",
   "language": "python",
   "name": "python3"
  },
  "language_info": {
   "codemirror_mode": {
    "name": "ipython",
    "version": 3
   },
   "file_extension": ".py",
   "mimetype": "text/x-python",
   "name": "python",
   "nbconvert_exporter": "python",
   "pygments_lexer": "ipython3",
   "version": "3.8.5"
  },
  "toc": {
   "base_numbering": 1,
   "nav_menu": {},
   "number_sections": true,
   "sideBar": true,
   "skip_h1_title": false,
   "title_cell": "Table of Contents",
   "title_sidebar": "Contents",
   "toc_cell": false,
   "toc_position": {},
   "toc_section_display": true,
   "toc_window_display": false
  },
  "varInspector": {
   "cols": {
    "lenName": 16,
    "lenType": 16,
    "lenVar": 40
   },
   "kernels_config": {
    "python": {
     "delete_cmd_postfix": "",
     "delete_cmd_prefix": "del ",
     "library": "var_list.py",
     "varRefreshCmd": "print(var_dic_list())"
    },
    "r": {
     "delete_cmd_postfix": ") ",
     "delete_cmd_prefix": "rm(",
     "library": "var_list.r",
     "varRefreshCmd": "cat(var_dic_list()) "
    }
   },
   "types_to_exclude": [
    "module",
    "function",
    "builtin_function_or_method",
    "instance",
    "_Feature"
   ],
   "window_display": false
  }
 },
 "nbformat": 4,
 "nbformat_minor": 4
}
