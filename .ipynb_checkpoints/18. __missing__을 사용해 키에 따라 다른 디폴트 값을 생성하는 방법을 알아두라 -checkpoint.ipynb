{
 "cells": [
  {
   "cell_type": "markdown",
   "metadata": {},
   "source": [
    "setdefault나 defaultdict 모두 사용하기가 적당하지 않는 경우가 있음  "
   ]
  },
  {
   "cell_type": "code",
   "execution_count": 1,
   "metadata": {
    "ExecuteTime": {
     "end_time": "2022-04-15T05:07:06.423390Z",
     "start_time": "2022-04-15T05:07:06.409394Z"
    }
   },
   "outputs": [
    {
     "name": "stdout",
     "output_type": "stream",
     "text": [
      "{'profile_1234.png': <_io.BufferedRandom name='profile_1234.png'>}\n",
      "b'image data here 1234'\n"
     ]
    }
   ],
   "source": [
    "# Example 1\n",
    "pictures = {}\n",
    "path = 'profile_1234.png'\n",
    "\n",
    "with open(path, 'wb') as f:\n",
    "    f.write(b'image data here 1234')\n",
    "\n",
    "if (handle := pictures.get(path)) is None:\n",
    "    try:\n",
    "        handle = open(path, 'a+b')\n",
    "    except OSError:\n",
    "        print(f'Failed to open path {path}')\n",
    "        raise\n",
    "    else:\n",
    "        pictures[path] = handle\n",
    "\n",
    "handle.seek(0)\n",
    "image_data = handle.read()\n",
    "\n",
    "print(pictures)\n",
    "print(image_data)"
   ]
  },
  {
   "cell_type": "code",
   "execution_count": 6,
   "metadata": {
    "ExecuteTime": {
     "end_time": "2022-04-15T05:12:26.890124Z",
     "start_time": "2022-04-15T05:12:26.882100Z"
    }
   },
   "outputs": [
    {
     "name": "stdout",
     "output_type": "stream",
     "text": [
      "{'profile_9239.png': <_io.BufferedRandom name='profile_9239.png'>}\n",
      "b'image data here 9239'\n"
     ]
    }
   ],
   "source": [
    "# Example 3\n",
    "pictures = {}\n",
    "path = 'profile_9239.png'\n",
    "\n",
    "with open(path, 'wb') as f:\n",
    "    f.write(b'image data here 9239')\n",
    "\n",
    "try:\n",
    "    handle = pictures.setdefault(path, open(path, 'a+b'))\n",
    "except OSError:\n",
    "    print(f'Failed to open path {path}')\n",
    "    raise\n",
    "else:\n",
    "    handle.seek(0)\n",
    "    image_data = handle.read()\n",
    "\n",
    "print(pictures)\n",
    "print(image_data)"
   ]
  },
  {
   "cell_type": "markdown",
   "metadata": {},
   "source": [
    "위 코드 문제점  \n",
    "- 내장 함수인 open이 딕셔너리에 경로가 있는지 여부와 관계없이 항상 호출  \n",
    "- 이로 인해 같은 프로그램상에 존재하던 열린 파일 핸들과 혼동될 수 있는 새로운 파일 핸들이 생길 수도 있음  \n",
    "- open이 예외를 던질 수 있는데 setdefault가 던지는 예외와 구분하지 못할 수 있음 "
   ]
  },
  {
   "cell_type": "code",
   "execution_count": 8,
   "metadata": {
    "ExecuteTime": {
     "end_time": "2022-04-15T05:15:54.480107Z",
     "start_time": "2022-04-15T05:15:54.473107Z"
    }
   },
   "outputs": [
    {
     "name": "stderr",
     "output_type": "stream",
     "text": [
      "ERROR:root:Expected\n",
      "Traceback (most recent call last):\n",
      "  File \"<ipython-input-8-113e1e010245>\", line 19, in <module>\n",
      "    handle = pictures[path]\n",
      "TypeError: open_picture() missing 1 required positional argument: 'profile_path'\n"
     ]
    }
   ],
   "source": [
    "import logging\n",
    "# Example 4\n",
    "try:\n",
    "    path = 'profile_4555.csv'\n",
    "    \n",
    "    with open(path, 'wb') as f:\n",
    "        f.write(b'image data here 9239')\n",
    "    \n",
    "    from collections import defaultdict\n",
    "    \n",
    "    def open_picture(profile_path):\n",
    "        try:\n",
    "            return open(profile_path, 'a+b')\n",
    "        except OSError:\n",
    "            print(f'Failed to open path {profile_path}')\n",
    "            raise\n",
    "    \n",
    "    pictures = defaultdict(open_picture)\n",
    "    handle = pictures[path]\n",
    "    handle.seek(0)\n",
    "    image_data = handle.read()\n",
    "except:\n",
    "    logging.exception('Expected')\n",
    "else:\n",
    "    assert False"
   ]
  },
  {
   "cell_type": "markdown",
   "metadata": {},
   "source": [
    "문제는 defaultdict 생성자에 전달한 함수는 인자를 받을 수 없음 "
   ]
  },
  {
   "cell_type": "markdown",
   "metadata": {},
   "source": [
    "dict 타입의 하위 클래스를 만들고 \\__missing__ 특별 메서드를 구현하면 키가 없는 경우를 처리하는 로직을 커스텀화할 수 있음 "
   ]
  },
  {
   "cell_type": "code",
   "execution_count": 12,
   "metadata": {
    "ExecuteTime": {
     "end_time": "2022-04-15T05:19:42.222910Z",
     "start_time": "2022-04-15T05:19:42.213910Z"
    }
   },
   "outputs": [
    {
     "name": "stdout",
     "output_type": "stream",
     "text": [
      "{'account_9090.csv': <_io.BufferedRandom name='account_9090.csv'>}\n",
      "b'image data here 9090'\n"
     ]
    }
   ],
   "source": [
    "# Example 5\n",
    "path = 'account_9090.csv'\n",
    "\n",
    "with open(path, 'wb') as f:\n",
    "    f.write(b'image data here 9090')\n",
    "\n",
    "def open_picture(profile_path):\n",
    "    try:\n",
    "        return open(profile_path, 'a+b')\n",
    "    except OSError:\n",
    "        print(f'Failed to open path {profile_path}')\n",
    "        raise\n",
    "\n",
    "class Pictures(dict):\n",
    "    def __missing__(self, key):\n",
    "        value = open_picture(key)\n",
    "        self[key] = value\n",
    "        return value\n",
    "\n",
    "pictures = Pictures()\n",
    "handle = pictures[path]\n",
    "handle.seek(0)\n",
    "image_data = handle.read()\n",
    "print(pictures)\n",
    "print(image_data)"
   ]
  },
  {
   "cell_type": "code",
   "execution_count": 14,
   "metadata": {
    "ExecuteTime": {
     "end_time": "2022-04-15T05:19:53.046255Z",
     "start_time": "2022-04-15T05:19:53.032225Z"
    }
   },
   "outputs": [
    {
     "data": {
      "text/plain": [
       "<_io.BufferedRandom name='account_9090.csv'>"
      ]
     },
     "execution_count": 14,
     "metadata": {},
     "output_type": "execute_result"
    }
   ],
   "source": [
    "handle"
   ]
  }
 ],
 "metadata": {
  "kernelspec": {
   "display_name": "Python 3",
   "language": "python",
   "name": "python3"
  },
  "language_info": {
   "codemirror_mode": {
    "name": "ipython",
    "version": 3
   },
   "file_extension": ".py",
   "mimetype": "text/x-python",
   "name": "python",
   "nbconvert_exporter": "python",
   "pygments_lexer": "ipython3",
   "version": "3.8.5"
  },
  "toc": {
   "base_numbering": 1,
   "nav_menu": {},
   "number_sections": true,
   "sideBar": true,
   "skip_h1_title": false,
   "title_cell": "Table of Contents",
   "title_sidebar": "Contents",
   "toc_cell": false,
   "toc_position": {},
   "toc_section_display": true,
   "toc_window_display": false
  },
  "varInspector": {
   "cols": {
    "lenName": 16,
    "lenType": 16,
    "lenVar": 40
   },
   "kernels_config": {
    "python": {
     "delete_cmd_postfix": "",
     "delete_cmd_prefix": "del ",
     "library": "var_list.py",
     "varRefreshCmd": "print(var_dic_list())"
    },
    "r": {
     "delete_cmd_postfix": ") ",
     "delete_cmd_prefix": "rm(",
     "library": "var_list.r",
     "varRefreshCmd": "cat(var_dic_list()) "
    }
   },
   "types_to_exclude": [
    "module",
    "function",
    "builtin_function_or_method",
    "instance",
    "_Feature"
   ],
   "window_display": false
  }
 },
 "nbformat": 4,
 "nbformat_minor": 4
}
